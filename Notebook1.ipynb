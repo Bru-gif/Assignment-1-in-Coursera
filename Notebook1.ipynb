{
 "cells": [
  {
   "cell_type": "markdown",
   "id": "4e8fe8c5-5f49-4d9d-a85e-6d3fbde6f13e",
   "metadata": {},
   "source": [
    "# My Jupyter Notebook on IBM Watson Studio"
   ]
  },
  {
   "cell_type": "markdown",
   "id": "f09dacde-d734-4200-85c5-97908e698f77",
   "metadata": {},
   "source": [
    "**Brundha**\n",
    "\n",
    "Data Engineer"
   ]
  },
  {
   "cell_type": "markdown",
   "id": "cf343cb0-7272-4d9a-8ed6-be57ef73440d",
   "metadata": {},
   "source": [
    "*I am interested in Data Science because I want to explore the insights of data with my analytical skills and would like to work in healthcare sector*"
   ]
  },
  {
   "cell_type": "markdown",
   "id": "00871b51-0855-45d9-8d0f-929cc9ad07c0",
   "metadata": {},
   "source": [
    "### A program to print first 10 Fibonacci sequence"
   ]
  },
  {
   "cell_type": "code",
   "execution_count": 5,
   "id": "d921104b-3b2e-4e0b-bd99-f44117f49f13",
   "metadata": {},
   "outputs": [
    {
     "name": "stdout",
     "output_type": "stream",
     "text": [
      "Fibonacci sequence:\n",
      "0\n",
      "1\n",
      "1\n",
      "2\n",
      "3\n",
      "5\n",
      "8\n",
      "13\n",
      "21\n",
      "34\n"
     ]
    }
   ],
   "source": [
    "# using while loop for fibonacci sequence\n",
    "n1, n2 = 0, 1\n",
    "i = 1\n",
    "print(\"Fibonacci sequence:\")\n",
    "while i <= 10:\n",
    "    print(n1)\n",
    "    nth = n1 + n2\n",
    "    # update values\n",
    "    n1 = n2\n",
    "    n2 = nth\n",
    "    i += 1\n"
   ]
  },
  {
   "cell_type": "markdown",
   "id": "9a80c791-c8dd-407f-83cd-83a68f2eef34",
   "metadata": {},
   "source": [
    "Customer | Age | Gender | Frequency\n",
    "--- | --- | --- | ---\n",
    "John | 25 | M | 20\n",
    "Daniel | 34 | M | 36\n",
    "Flori | 45 | F | 44\n",
    "\n",
    "---\n",
    "List of Items\n",
    "1. Apple\n",
    "2. Oranges\n",
    "3. ~Banana~\n",
    "4. Grapes\n",
    "\n",
    "List of Bulleted items\n",
    "+ Python\n",
    "+ Rstudio\n",
    "+ Scala\n",
    "---\n",
    "Link for google maps\n",
    "<https://maps.google.com>\n",
    "\n",
    "Syntax Highlighting\n",
    "```Python\n",
    "for number in range(5):\n",
    "print(number)\n",
    "```\n",
    "\n",
    "> Blocked Quotes\n",
    "\n",
    "> The block quote is used for direct quotations that are longer than four lines of prose, or longer than three lines of poetry.A block quote is always used when quoting dialogue between characters, as in a play. The block format is a freestanding quote that does not include quotation marks."
   ]
  },
  {
   "cell_type": "code",
   "execution_count": null,
   "id": "9ff792ab-adc6-4aff-8919-a7058b1e46b9",
   "metadata": {},
   "outputs": [],
   "source": []
  }
 ],
 "metadata": {
  "kernelspec": {
   "display_name": "Python",
   "language": "python",
   "name": "conda-env-python-py"
  },
  "language_info": {
   "codemirror_mode": {
    "name": "ipython",
    "version": 3
   },
   "file_extension": ".py",
   "mimetype": "text/x-python",
   "name": "python",
   "nbconvert_exporter": "python",
   "pygments_lexer": "ipython3",
   "version": "3.7.12"
  }
 },
 "nbformat": 4,
 "nbformat_minor": 5
}
